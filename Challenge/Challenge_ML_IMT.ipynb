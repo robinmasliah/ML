{
 "cells": [
  {
   "cell_type": "markdown",
   "metadata": {},
   "source": [
    "# Sparse Score Fusion for Classifying Mate Pairs of Images\n",
    "\n",
    "\n",
    "## Introduction\n",
    "\n",
    "###  Challenge MDI343 2017-2018\n",
    "#### Authors :  Umut Şimşekli & Stéphane Gentric\n",
    "\n",
    "\n",
    "The topic of this challenge will be determining if two images belong to the same person or not. Conventionally, in order to solve this task, one typically builds an algorithm to provide a \"score\" for a given image pair. If the value of the score is high, it means that it is more probable that these images belong to the same person. Then, by using this score, one can determine if the images belong to the same person, by simply thresholding it.   \n",
    "\n",
    "The goal of this challenge is to build a system for determining if two images belong to the same person or not by \"fusing\" multiple algorithms. In particular, for a given image pair, you will be provided the scores obtained from **14** different algorithms, each of which has a different computational complexity.   \n",
    "\n",
    "Then the aim is to combine the scores of these algorithms (in a way that will be described in the sequel) in order to obtain a better classification accuracy. However, there will be a strict **computational budget**, such the running times of the algorithms that you combine **cannot exceed a certain time threshold**. For example, let $t_i$ denote the running time of algorithm $i$ in milliseconds ($i = 1,\\dots,14$). Then, you will be given a threshold, $T$, such that the total computational time of the algorithms that you combine will not exceed $T$: \n",
    "\n",
    "$\n",
    "\\sum_{i\\in C} t_i \\leq T,\n",
    "$\n",
    "\n",
    "where $C \\subset \\{1,\\dots,14\\}$ is the set of algorithms that you choose to combine. The idea in such fusion is that \"combining several fast algorithms might be better than using a single slow (possible more complex) algorithm\". \n",
    "\n",
    "Before we describe how the fusion will be done, let us introduce the data:\n",
    "\n",
    "**Training data:**\n",
    "\n",
    "There will be $N= 2048853$ image pairs in the dataset. For a given image pair $n \\in \\{1,\\dots,N\\}$, we define $y_n = 1$ if this image pair belongs to the same person, or $y_n=0$ otherwise.\n",
    "\n",
    "We then define a vector of scores for each image pair, $s_n \\in \\mathbb{R}_+^{14}$, such that $i$th component of $s_n$ will encode the score obtained by the $i$th algorithm, for the given image pair.  \n",
    "\n",
    "**Test data:**\n",
    "\n",
    "The test data contain $N_\\text{test} = 170738$ image pairs. Similarly to the training data, each image pair contains a label and a vector of scores that are obtained from $14$ different algorithms. The test data will not be provided.\n",
    "\n",
    "\n",
    "## Fusion Method \n",
    "\n",
    "In this challenge, you are expected to build a fusion system that is given as follows. Given a score vector $s \\in \\mathbb{R}_+^{14}$, we first define an extended vector $s'$, by appending a $1$ in the beginning of the original vector $s\\in \\mathbb{R}_+^{15}$: $s' = [1, s]$. Then we use the following fusion scheme in order to obtain the combined score $\\hat{s}$: \n",
    "\n",
    "$\n",
    "\\hat{s} = s'^\\top M s' \n",
    "$\n",
    "\n",
    "where $M \\in \\mathbb{R}^{15 \\times 15}$, is the \"fusion matrix\". This matrix will enable you to combine the scores of the different algorithms in a linear or a quadratic way. \n",
    "\n",
    "\n",
    "## The goal and the performance criterion\n",
    "\n",
    "In this challenge, we will use an evaluation metric, which is commonly used in biometrics, namely the False Recognition Rate (FRR) at a fixed False Acceptance Rate (FAR). **The lower the better.**\n",
    "\n",
    "The definitions of these quantities are as follows: (definitions from Webopedia)\n",
    "\n",
    "**The false acceptance rate**, or **FAR**, is the measure of the likelihood that the biometric security system will incorrectly accept an access attempt by an unauthorized user. A system’s FAR typically is stated as the ratio of the number of false acceptances divided by the number of identification attempts.\n",
    "\n",
    "**The false recognition rate**, or **FRR**, is the measure of the likelihood that the biometric security system will incorrectly reject an access attempt by an authorized user. A system’s FRR typically is stated as the ratio of the number of false recognitions divided by the number of identification attempts.\n",
    "\n",
    "In this challenge, we will use the following evaluation scheme:\n",
    "\n",
    "1) Given the scores, find a threshold that will give an FAR 0.01 %\n",
    "\n",
    "2) Given the threshold, compute the FRR\n",
    "\n",
    "The overall metric will be called **\"the FRR at 0.01% FAR\"**.\n",
    "\n",
    "\n",
    "# Training Data\n",
    "\n",
    "https://www.dropbox.com/s/6it6v6ifqkwuz98/train15_telecom.txt?dl=0\n"
   ]
  },
  {
   "cell_type": "markdown",
   "metadata": {},
   "source": [
    "# Robin Masliah"
   ]
  },
  {
   "cell_type": "markdown",
   "metadata": {},
   "source": [
    "### Introduction\n",
    "\n",
    "First of all, my first idea to find the most efficient matrix M was to use classification algorithms based on trees for exemple to find the important features."
   ]
  },
  {
   "cell_type": "code",
   "execution_count": 25,
   "metadata": {
    "collapsed": true
   },
   "outputs": [],
   "source": [
    "import numpy as np\n",
    "import matplotlib.pyplot as plt\n",
    "import pandas as pd\n",
    "%matplotlib inline"
   ]
  },
  {
   "cell_type": "code",
   "execution_count": 24,
   "metadata": {
    "collapsed": true
   },
   "outputs": [],
   "source": [
    "import sklearn\n",
    "from sklearn import tree\n",
    "from sklearn.ensemble import ExtraTreesClassifier, ExtraTreesRegressor,RandomForestClassifier, RandomForestRegressor, GradientBoostingClassifier\n",
    "from sklearn.model_selection import cross_val_score\n",
    "from sklearn.preprocessing import StandardScaler\n",
    "from sklearn import linear_model, decomposition\n",
    "from sklearn.pipeline import Pipeline\n",
    "from sklearn.model_selection import GridSearchCV"
   ]
  },
  {
   "cell_type": "code",
   "execution_count": 3,
   "metadata": {
    "collapsed": true
   },
   "outputs": [],
   "source": [
    "# Running time of each algorithm (in milliseconds)\n",
    "alg_times = np.zeros((14,1))\n",
    "alg_times[0] = 163\n",
    "alg_times[1] = 163\n",
    "alg_times[2] = 190\n",
    "alg_times[3] = 190\n",
    "alg_times[4] = 206\n",
    "alg_times[5] = 206\n",
    "alg_times[6] = 120\n",
    "alg_times[7] = 120\n",
    "alg_times[8] = 83\n",
    "alg_times[9] = 83\n",
    "alg_times[10] = 83\n",
    "alg_times[11] = 83\n",
    "alg_times[12] = 170\n",
    "alg_times[13] = 170\n",
    "\n",
    "# Time constraint: The total duration of the algorithms cannot exceed 600 milliseconds\n",
    "alg_time_thr = 600\n",
    "\n",
    "\n",
    "# Compute the total computational time for the fusion algorithm\n",
    "def compute_total_time(M):\n",
    "    is_used = np.zeros((14,1))\n",
    "    for i in range(15):\n",
    "        for j in range(15):\n",
    "            if(M[i,j] != 0):\n",
    "                if(i>=1):\n",
    "                    is_used[i-1] = 1\n",
    "                if(j>=1):\n",
    "                    is_used[j-1] = 1\n",
    "\n",
    "    total_dur = np.dot(is_used.T,alg_times)\n",
    "    return total_dur[0,0]\n",
    "\n",
    "# Evaluation metric\n",
    "def compute_eval(fused_score):\n",
    "    look_at_FAR = 0.0001\n",
    "    # calculating FAR and FRR\n",
    "    sort = np.argsort(fused_score[:,1])\n",
    "\n",
    "    #sort = np.concatenate([sort[-2:],sort[:-2]], axis=0)\n",
    "    scores = fused_score[sort]\n",
    "    totpos = sum(scores[:,0])\n",
    "    totneg = scores.shape[0]-totpos\n",
    "    fa = (np.cumsum(scores[:,0]-1)+totneg)/totneg\n",
    "    fr = np.cumsum(scores[:,0])/totpos\n",
    "\n",
    "    i=0\n",
    "    while fa[i]>look_at_FAR:\n",
    "        i+=1\n",
    "\n",
    "    return scores[i][1], fa[i], fr[i]\n"
   ]
  },
  {
   "cell_type": "code",
   "execution_count": 4,
   "metadata": {
    "collapsed": true
   },
   "outputs": [],
   "source": [
    "# Load the data\n",
    "train_fname = 'train15_telecom.txt'\n",
    "train_data = np.loadtxt(train_fname, dtype=np.float) #The first column contains the labels, the rest of the columns contains the scores\n",
    "\n",
    "# Extract the labels\n",
    "y_trn = train_data[:,0].astype(int)\n",
    "\n",
    "# Extract the score vectors\n",
    "s_trn = train_data.copy()\n",
    "# Put a 1 in front of all the scores (see the \"Fusion method\" section above)\n",
    "s_trn[:,0] = 1;"
   ]
  },
  {
   "cell_type": "code",
   "execution_count": 5,
   "metadata": {},
   "outputs": [
    {
     "data": {
      "text/html": [
       "<div>\n",
       "<style>\n",
       "    .dataframe thead tr:only-child th {\n",
       "        text-align: right;\n",
       "    }\n",
       "\n",
       "    .dataframe thead th {\n",
       "        text-align: left;\n",
       "    }\n",
       "\n",
       "    .dataframe tbody tr th {\n",
       "        vertical-align: top;\n",
       "    }\n",
       "</style>\n",
       "<table border=\"1\" class=\"dataframe\">\n",
       "  <thead>\n",
       "    <tr style=\"text-align: right;\">\n",
       "      <th></th>\n",
       "      <th>1</th>\n",
       "      <th>2</th>\n",
       "      <th>3</th>\n",
       "      <th>4</th>\n",
       "      <th>5</th>\n",
       "      <th>6</th>\n",
       "      <th>7</th>\n",
       "      <th>8</th>\n",
       "      <th>9</th>\n",
       "      <th>10</th>\n",
       "      <th>11</th>\n",
       "      <th>12</th>\n",
       "      <th>13</th>\n",
       "      <th>14</th>\n",
       "    </tr>\n",
       "  </thead>\n",
       "  <tbody>\n",
       "    <tr>\n",
       "      <th>0</th>\n",
       "      <td>4056.64</td>\n",
       "      <td>4329.06</td>\n",
       "      <td>4258.26</td>\n",
       "      <td>4487.92</td>\n",
       "      <td>4438.95</td>\n",
       "      <td>4624.01</td>\n",
       "      <td>4295.81</td>\n",
       "      <td>4516.67</td>\n",
       "      <td>5566.92</td>\n",
       "      <td>5365.55</td>\n",
       "      <td>3534.17</td>\n",
       "      <td>3877.52</td>\n",
       "      <td>4933.86</td>\n",
       "      <td>4970.20</td>\n",
       "    </tr>\n",
       "    <tr>\n",
       "      <th>1</th>\n",
       "      <td>2284.19</td>\n",
       "      <td>2448.09</td>\n",
       "      <td>2148.12</td>\n",
       "      <td>2246.95</td>\n",
       "      <td>2379.43</td>\n",
       "      <td>2581.86</td>\n",
       "      <td>2530.12</td>\n",
       "      <td>2782.97</td>\n",
       "      <td>2397.09</td>\n",
       "      <td>2606.08</td>\n",
       "      <td>1906.96</td>\n",
       "      <td>1856.95</td>\n",
       "      <td>2743.85</td>\n",
       "      <td>3048.56</td>\n",
       "    </tr>\n",
       "    <tr>\n",
       "      <th>2</th>\n",
       "      <td>2158.96</td>\n",
       "      <td>2263.43</td>\n",
       "      <td>2369.36</td>\n",
       "      <td>2567.98</td>\n",
       "      <td>2385.78</td>\n",
       "      <td>2590.60</td>\n",
       "      <td>2320.31</td>\n",
       "      <td>2499.47</td>\n",
       "      <td>2155.66</td>\n",
       "      <td>2258.41</td>\n",
       "      <td>1938.28</td>\n",
       "      <td>1910.30</td>\n",
       "      <td>2837.74</td>\n",
       "      <td>3158.75</td>\n",
       "    </tr>\n",
       "    <tr>\n",
       "      <th>3</th>\n",
       "      <td>2257.80</td>\n",
       "      <td>2410.03</td>\n",
       "      <td>2297.49</td>\n",
       "      <td>2467.10</td>\n",
       "      <td>2280.85</td>\n",
       "      <td>2443.30</td>\n",
       "      <td>2293.67</td>\n",
       "      <td>2461.65</td>\n",
       "      <td>2200.40</td>\n",
       "      <td>2325.69</td>\n",
       "      <td>1989.81</td>\n",
       "      <td>1996.23</td>\n",
       "      <td>2548.51</td>\n",
       "      <td>2806.69</td>\n",
       "    </tr>\n",
       "    <tr>\n",
       "      <th>4</th>\n",
       "      <td>2094.92</td>\n",
       "      <td>2164.81</td>\n",
       "      <td>1830.91</td>\n",
       "      <td>1723.67</td>\n",
       "      <td>2239.55</td>\n",
       "      <td>2383.45</td>\n",
       "      <td>2038.94</td>\n",
       "      <td>2076.11</td>\n",
       "      <td>2465.04</td>\n",
       "      <td>2697.64</td>\n",
       "      <td>1617.28</td>\n",
       "      <td>1317.34</td>\n",
       "      <td>2802.02</td>\n",
       "      <td>3117.27</td>\n",
       "    </tr>\n",
       "  </tbody>\n",
       "</table>\n",
       "</div>"
      ],
      "text/plain": [
       "         1        2        3        4        5        6        7        8  \\\n",
       "0  4056.64  4329.06  4258.26  4487.92  4438.95  4624.01  4295.81  4516.67   \n",
       "1  2284.19  2448.09  2148.12  2246.95  2379.43  2581.86  2530.12  2782.97   \n",
       "2  2158.96  2263.43  2369.36  2567.98  2385.78  2590.60  2320.31  2499.47   \n",
       "3  2257.80  2410.03  2297.49  2467.10  2280.85  2443.30  2293.67  2461.65   \n",
       "4  2094.92  2164.81  1830.91  1723.67  2239.55  2383.45  2038.94  2076.11   \n",
       "\n",
       "         9       10       11       12       13       14  \n",
       "0  5566.92  5365.55  3534.17  3877.52  4933.86  4970.20  \n",
       "1  2397.09  2606.08  1906.96  1856.95  2743.85  3048.56  \n",
       "2  2155.66  2258.41  1938.28  1910.30  2837.74  3158.75  \n",
       "3  2200.40  2325.69  1989.81  1996.23  2548.51  2806.69  \n",
       "4  2465.04  2697.64  1617.28  1317.34  2802.02  3117.27  "
      ]
     },
     "execution_count": 5,
     "metadata": {},
     "output_type": "execute_result"
    }
   ],
   "source": [
    "train = pd.DataFrame(train_data)\n",
    "train = train.replace([np.inf, -np.inf], np.nan)\n",
    "train = train.dropna()\n",
    "y = train[0]\n",
    "train.columns = [['0', '1', '2', '3', '4', '5', '6',\n",
    "                  '7', '8', '9', '10', '11', '12', '13', '14']]\n",
    "train = train.drop(['0'], axis=1)\n",
    "train.head()"
   ]
  },
  {
   "cell_type": "markdown",
   "metadata": {},
   "source": [
    "### Feature correlation matrix\n",
    "\n",
    "* Below, we can see the matrix correlation between the 14 groups of scores and its associated heatmap:\n",
    "As expected, there is a high correlation between scores. In fact, there are just a few correlations below 0.6. \n",
    "* Many pairs of algorithms have a strong correlation. Since these algorithms share a lot of information, we will probably be able to use just a few set of scores without loosing much of the information contained in the data set. \n",
    "\n",
    "* We can observe here a strong correlation between the 8 first scores. So that I first tried to regroup these eights in order to make an unique column. Then I made the average of the features correlated 2 by 2. I later noticed that I was not a good idea and decided to just ignore the 7 first columns and keep the others. These features were not relevant."
   ]
  },
  {
   "cell_type": "code",
   "execution_count": 6,
   "metadata": {},
   "outputs": [
    {
     "data": {
      "text/plain": [
       "<matplotlib.axes._subplots.AxesSubplot at 0x7f9e80f7ef28>"
      ]
     },
     "execution_count": 6,
     "metadata": {},
     "output_type": "execute_result"
    },
    {
     "data": {
      "image/png": "[encoded data removed]",
      "text/plain": [
       "<matplotlib.figure.Figure at 0x7f9eac6dc550>"
      ]
     },
     "metadata": {},
     "output_type": "display_data"
    }
   ],
   "source": [
    "import seaborn as sns\n",
    "\n",
    "f, ax = plt.subplots(figsize=(10, 8))\n",
    "corr = train.corr()\n",
    "sns.heatmap(corr, mask=np.zeros_like(corr, dtype=np.bool), cmap=sns.diverging_palette(220, 10, as_cmap=True),\n",
    "            square=True, ax=ax)"
   ]
  },
  {
   "cell_type": "markdown",
   "metadata": {},
   "source": [
    "## Test of machine learning algorithms\n",
    "\n",
    "\n",
    "* I decided here to use the features the most discriminant to determine the rules with trees. This class implements a meta estimator that fits a number of randomized decision trees on various sub-samples of the dataset and use averaging to improve the predictive accuracy and control over-fitting.\n",
    "\n",
    "* I ranked the features iportances in order and injected it in the matrix M in linear. It gave me good results but improvable."
   ]
  },
  {
   "cell_type": "code",
   "execution_count": 7,
   "metadata": {},
   "outputs": [
    {
     "name": "stdout",
     "output_type": "stream",
     "text": [
      "Feature ranking:\n",
      "1. feature 8 (0.121502)\n",
      "2. feature 13 (0.105185)\n",
      "3. feature 9 (0.100683)\n",
      "4. feature 11 (0.097187)\n",
      "5. feature 5 (0.090615)\n",
      "6. feature 12 (0.086775)\n",
      "7. feature 14 (0.081564)\n",
      "8. feature 7 (0.078939)\n",
      "9. feature 10 (0.061649)\n",
      "10. feature 1 (0.043523)\n",
      "11. feature 4 (0.035391)\n",
      "12. feature 2 (0.033040)\n",
      "13. feature 3 (0.032038)\n",
      "14. feature 6 (0.031911)\n"
     ]
    },
    {
     "data": {
      "image/png": "[encoded data removed]",
      "text/plain": [
       "<matplotlib.figure.Figure at 0x7f9e7d68a518>"
      ]
     },
     "metadata": {},
     "output_type": "display_data"
    }
   ],
   "source": [
    "# Build a forest and compute the feature importances\n",
    "forest = ExtraTreesClassifier(n_estimators=100)\n",
    "\n",
    "forest.fit(train, y)\n",
    "importances = forest.feature_importances_\n",
    "std = np.std([tree.feature_importances_ for tree in forest.estimators_],\n",
    "             axis=0)\n",
    "indices = np.argsort(importances)[::-1]\n",
    "\n",
    "# Print the feature ranking\n",
    "print(\"Feature ranking:\")\n",
    "\n",
    "for f in range(train.shape[1]):\n",
    "    print(\"%d. feature %d (%f)\" %\n",
    "          (f + 1, indices[f] + 1, importances[indices[f]]))\n",
    "\n",
    "# Plot the feature importances of the forest\n",
    "plt.figure()\n",
    "plt.title(\"Feature importances\")\n",
    "plt.bar(range(train.shape[1]), importances[indices],\n",
    "        color=\"r\", yerr=std[indices], align=\"center\")\n",
    "plt.xticks(range(train.shape[1]), indices)\n",
    "plt.xlim([-1, train.shape[1]])\n",
    "plt.show()"
   ]
  },
  {
   "cell_type": "markdown",
   "metadata": {},
   "source": [
    "* The PCA does an unsupervised dimensionality reduction, while the logistic regression does the prediction. I also use a GridSearchCV to set the dimensionality of the PCA.\n",
    "\n",
    "* The idea here is to classify algorithms and take coefficient of the hyperplan to put it in the matrix.\n",
    "\n",
    "* This method gave me the final result."
   ]
  },
  {
   "cell_type": "code",
   "execution_count": 21,
   "metadata": {
    "scrolled": true
   },
   "outputs": [
    {
     "data": {
      "image/png": "[encoded data removed]",
      "text/plain": [
       "<matplotlib.figure.Figure at 0x7f9e72875c50>"
      ]
     },
     "metadata": {},
     "output_type": "display_data"
    }
   ],
   "source": [
    "logistic = linear_model.LogisticRegression()\n",
    "logistic.fit(train, y)\n",
    "\n",
    "pca = decomposition.PCA(svd_solver='full')\n",
    "pipe = Pipeline(steps=[('pca', pca), ('logistic', logistic)])\n",
    "\n",
    "X = train\n",
    "y = y\n",
    "\n",
    "# Plot the PCA spectrum\n",
    "pca.fit(X)\n",
    "\n",
    "plt.figure(1, figsize=(4, 3))\n",
    "plt.clf()\n",
    "plt.axes([.2, .2, .7, .7])\n",
    "plt.plot(pca.explained_variance_, linewidth=2)\n",
    "plt.axis('tight')\n",
    "plt.xlabel('n_components')\n",
    "plt.ylabel('explained_variance_')\n",
    "\n",
    "# Prediction\n",
    "n_components = [13]\n",
    "Cs = np.logspace(-4, 4, 3)\n",
    "\n",
    "# Parameters of pipelines can be set using ‘__’ separated parameter names:\n",
    "estimator = GridSearchCV(pipe,\n",
    "                         dict(pca__n_components=n_components,\n",
    "                              logistic__C=Cs))\n",
    "estimator.fit(X, y)\n",
    "\n",
    "plt.axvline(estimator.best_estimator_.named_steps['pca'].n_components,\n",
    "            linestyle=':', label='n_components chosen')\n",
    "plt.legend(prop=dict(size=12))\n",
    "plt.show()"
   ]
  },
  {
   "cell_type": "code",
   "execution_count": 26,
   "metadata": {},
   "outputs": [
    {
     "data": {
      "text/html": [
       "<div>\n",
       "<style>\n",
       "    .dataframe thead tr:only-child th {\n",
       "        text-align: right;\n",
       "    }\n",
       "\n",
       "    .dataframe thead th {\n",
       "        text-align: left;\n",
       "    }\n",
       "\n",
       "    .dataframe tbody tr th {\n",
       "        vertical-align: top;\n",
       "    }\n",
       "</style>\n",
       "<table border=\"1\" class=\"dataframe\">\n",
       "  <thead>\n",
       "    <tr style=\"text-align: right;\">\n",
       "      <th></th>\n",
       "      <th>Coefficients</th>\n",
       "      <th>Feature</th>\n",
       "    </tr>\n",
       "  </thead>\n",
       "  <tbody>\n",
       "    <tr>\n",
       "      <th>12</th>\n",
       "      <td>0.022238</td>\n",
       "      <td>13</td>\n",
       "    </tr>\n",
       "    <tr>\n",
       "      <th>6</th>\n",
       "      <td>0.021021</td>\n",
       "      <td>7</td>\n",
       "    </tr>\n",
       "    <tr>\n",
       "      <th>1</th>\n",
       "      <td>0.011833</td>\n",
       "      <td>2</td>\n",
       "    </tr>\n",
       "    <tr>\n",
       "      <th>3</th>\n",
       "      <td>0.007079</td>\n",
       "      <td>4</td>\n",
       "    </tr>\n",
       "    <tr>\n",
       "      <th>11</th>\n",
       "      <td>0.002010</td>\n",
       "      <td>12</td>\n",
       "    </tr>\n",
       "    <tr>\n",
       "      <th>9</th>\n",
       "      <td>0.000772</td>\n",
       "      <td>10</td>\n",
       "    </tr>\n",
       "    <tr>\n",
       "      <th>5</th>\n",
       "      <td>-0.000063</td>\n",
       "      <td>6</td>\n",
       "    </tr>\n",
       "    <tr>\n",
       "      <th>8</th>\n",
       "      <td>-0.001283</td>\n",
       "      <td>9</td>\n",
       "    </tr>\n",
       "    <tr>\n",
       "      <th>10</th>\n",
       "      <td>-0.002276</td>\n",
       "      <td>11</td>\n",
       "    </tr>\n",
       "    <tr>\n",
       "      <th>4</th>\n",
       "      <td>-0.003881</td>\n",
       "      <td>5</td>\n",
       "    </tr>\n",
       "    <tr>\n",
       "      <th>2</th>\n",
       "      <td>-0.010479</td>\n",
       "      <td>3</td>\n",
       "    </tr>\n",
       "    <tr>\n",
       "      <th>0</th>\n",
       "      <td>-0.013223</td>\n",
       "      <td>1</td>\n",
       "    </tr>\n",
       "    <tr>\n",
       "      <th>13</th>\n",
       "      <td>-0.017169</td>\n",
       "      <td>14</td>\n",
       "    </tr>\n",
       "    <tr>\n",
       "      <th>7</th>\n",
       "      <td>-0.017858</td>\n",
       "      <td>8</td>\n",
       "    </tr>\n",
       "  </tbody>\n",
       "</table>\n",
       "</div>"
      ],
      "text/plain": [
       "    Coefficients Feature\n",
       "12      0.022238      13\n",
       "6       0.021021       7\n",
       "1       0.011833       2\n",
       "3       0.007079       4\n",
       "11      0.002010      12\n",
       "9       0.000772      10\n",
       "5      -0.000063       6\n",
       "8      -0.001283       9\n",
       "10     -0.002276      11\n",
       "4      -0.003881       5\n",
       "2      -0.010479       3\n",
       "0      -0.013223       1\n",
       "13     -0.017169      14\n",
       "7      -0.017858       8"
      ]
     },
     "execution_count": 26,
     "metadata": {},
     "output_type": "execute_result"
    }
   ],
   "source": [
    "coefficients = pd.DataFrame(\n",
    "    {\"Feature\": X.columns, \"Coefficients\": np.transpose(logistic.coef_).reshape(14)})\n",
    "result = coefficients.sort_values(by='Coefficients', ascending=False)\n",
    "log_coefs = result\n",
    "log_coefs"
   ]
  },
  {
   "cell_type": "code",
   "execution_count": 44,
   "metadata": {},
   "outputs": [
    {
     "data": {
      "text/plain": [
       "Coefficients    0.0222378\n",
       "Feature                13\n",
       "Name: 12, dtype: object"
      ]
     },
     "execution_count": 44,
     "metadata": {},
     "output_type": "execute_result"
    }
   ],
   "source": [
    "log_coefs.T.iloc[:,0]"
   ]
  },
  {
   "cell_type": "markdown",
   "metadata": {},
   "source": [
    "* To respect the constraint of time running I kept the idea of determining the important features but by procceding by cross validation research.\n",
    "* I took every column and I compute it with the next one in order to find the most relevant scores to put into the matrix.\n",
    "* By elimination I kept the following columns who seemed the most important for the tree : 8, 9, 10, 11, 14"
   ]
  },
  {
   "cell_type": "code",
   "execution_count": 10,
   "metadata": {},
   "outputs": [
    {
     "name": "stdout",
     "output_type": "stream",
     "text": [
      "Feature ranking:\n",
      "1. feature 13 (0.375222)\n",
      "2. feature 14 (0.287326)\n",
      "3. feature 8 (0.102010)\n",
      "4. feature 9 (0.098699)\n",
      "5. feature 6 (0.088869)\n",
      "6. feature 7 (0.011055)\n",
      "7. feature 10 (0.010716)\n",
      "8. feature 11 (0.010522)\n",
      "9. feature 12 (0.007716)\n",
      "10. feature 3 (0.002166)\n",
      "11. feature 4 (0.001914)\n",
      "12. feature 5 (0.001901)\n",
      "13. feature 1 (0.001029)\n",
      "14. feature 2 (0.000856)\n"
     ]
    }
   ],
   "source": [
    "# Random forest et features importance\n",
    "rf = RandomForestClassifier(max_depth=10, random_state=0)\n",
    "\n",
    "rf.fit(train, y)\n",
    "#scores = cross_val_score(rf, train_, y, cv=5)\n",
    "importances = rf.feature_importances_\n",
    "std = np.std([rf.feature_importances_ for rf in rf.estimators_],\n",
    "             axis=0)\n",
    "indices = np.argsort(importances)[::-1]\n",
    "\n",
    "# Print the feature ranking\n",
    "print(\"Feature ranking:\")\n",
    "\n",
    "for f in range(train.shape[1]):\n",
    "    print(\"%d. feature %d (%f)\" %\n",
    "          (f + 1, indices[f] + 1, importances[indices[f]]))"
   ]
  },
  {
   "cell_type": "code",
   "execution_count": 11,
   "metadata": {},
   "outputs": [
    {
     "name": "stdout",
     "output_type": "stream",
     "text": [
      "Feature ranking:\n",
      "1. feature 2 (0.598741)\n",
      "2. feature 1 (0.401259)\n"
     ]
    }
   ],
   "source": [
    "train1 = train[['13', '14']]\n",
    "train1.head()\n",
    "\n",
    "# Random forest et features importance\n",
    "rf = RandomForestClassifier(max_depth=10, random_state=0)\n",
    "rf.fit(train1, y)\n",
    "scores = cross_val_score(rf, train1, y, cv=5)\n",
    "\n",
    "importances = rf.feature_importances_\n",
    "std = np.std([rf.feature_importances_ for rf in rf.estimators_],\n",
    "             axis=0)\n",
    "indices = np.argsort(importances)[::-1]\n",
    "\n",
    "# Print the feature ranking\n",
    "print(\"Feature ranking:\")\n",
    "\n",
    "for f in range(train1.shape[1]):\n",
    "    print(\"%d. feature %d (%f)\" %\n",
    "          (f + 1, indices[f] + 1, importances[indices[f]]))"
   ]
  },
  {
   "cell_type": "code",
   "execution_count": 12,
   "metadata": {},
   "outputs": [
    {
     "name": "stdout",
     "output_type": "stream",
     "text": [
      "Feature ranking:\n",
      "1. feature 2 (0.391243)\n",
      "2. feature 1 (0.390222)\n",
      "3. feature 3 (0.218535)\n"
     ]
    }
   ],
   "source": [
    "train2 = train[['13', '14', '8']]\n",
    "\n",
    "# Random forest et features importance\n",
    "rf = RandomForestClassifier(max_depth=10, random_state=0)\n",
    "rf.fit(train2, y)\n",
    "scores = cross_val_score(rf, train2, y, cv=5)\n",
    "\n",
    "importances = rf.feature_importances_\n",
    "std = np.std([rf.feature_importances_ for rf in rf.estimators_],\n",
    "             axis=0)\n",
    "indices = np.argsort(importances)[::-1]\n",
    "\n",
    "# Print the feature ranking\n",
    "print(\"Feature ranking:\")\n",
    "\n",
    "for f in range(train2.shape[1]):\n",
    "    print(\"%d. feature %d (%f)\" %\n",
    "          (f + 1, indices[f] + 1, importances[indices[f]]))"
   ]
  },
  {
   "cell_type": "code",
   "execution_count": 13,
   "metadata": {},
   "outputs": [
    {
     "name": "stdout",
     "output_type": "stream",
     "text": [
      "Feature ranking:\n",
      "1. feature 1 (0.472801)\n",
      "2. feature 2 (0.381956)\n",
      "3. feature 3 (0.120898)\n",
      "4. feature 4 (0.024344)\n"
     ]
    }
   ],
   "source": [
    "train3 = train[['13', '14', '8', '9']]\n",
    "\n",
    "# Random forest et features importance\n",
    "rf = RandomForestClassifier(max_depth=10, random_state=0)\n",
    "rf.fit(train3, y)\n",
    "scores = cross_val_score(rf, train3, y, cv=5)\n",
    "\n",
    "importances = rf.feature_importances_\n",
    "std = np.std([rf.feature_importances_ for rf in rf.estimators_],\n",
    "             axis=0)\n",
    "indices = np.argsort(importances)[::-1]\n",
    "\n",
    "# Print the feature ranking\n",
    "print(\"Feature ranking:\")\n",
    "\n",
    "for f in range(train3.shape[1]):\n",
    "    print(\"%d. feature %d (%f)\" %\n",
    "          (f + 1, indices[f] + 1, importances[indices[f]]))"
   ]
  },
  {
   "cell_type": "code",
   "execution_count": 14,
   "metadata": {},
   "outputs": [
    {
     "name": "stdout",
     "output_type": "stream",
     "text": [
      "Feature ranking:\n",
      "1. feature 2 (0.570669)\n",
      "2. feature 3 (0.207708)\n",
      "3. feature 1 (0.192896)\n",
      "4. feature 4 (0.022914)\n",
      "5. feature 5 (0.005813)\n"
     ]
    }
   ],
   "source": [
    "train4 = train[['13', '14', '8', '9', '6']]\n",
    "\n",
    "# Random forest et features importance\n",
    "rf = RandomForestClassifier(max_depth=10, random_state=0)\n",
    "\n",
    "rf.fit(train4, y)\n",
    "scores = cross_val_score(rf, train4, y, cv=5)\n",
    "importances = rf.feature_importances_\n",
    "std = np.std([rf.feature_importances_ for rf in rf.estimators_],\n",
    "             axis=0)\n",
    "indices = np.argsort(importances)[::-1]\n",
    "\n",
    "# Print the feature ranking\n",
    "print(\"Feature ranking:\")\n",
    "\n",
    "for f in range(train4.shape[1]):\n",
    "    print(\"%d. feature %d (%f)\" %\n",
    "          (f + 1, indices[f] + 1, importances[indices[f]]))"
   ]
  },
  {
   "cell_type": "code",
   "execution_count": 15,
   "metadata": {},
   "outputs": [
    {
     "name": "stdout",
     "output_type": "stream",
     "text": [
      "Feature ranking:\n",
      "1. feature 6 (0.204999)\n",
      "2. feature 2 (0.202879)\n",
      "3. feature 4 (0.198109)\n",
      "4. feature 3 (0.195281)\n",
      "5. feature 1 (0.193929)\n",
      "6. feature 5 (0.004803)\n"
     ]
    }
   ],
   "source": [
    "train6 = train[['13', '14', '8', '9', '6', '7']]\n",
    "\n",
    "# Random forest et features importance\n",
    "rf = RandomForestClassifier(max_depth=10, random_state=0)\n",
    "\n",
    "rf.fit(train6, y)\n",
    "scores = cross_val_score(rf, train6, y, cv=5)\n",
    "importances = rf.feature_importances_\n",
    "std = np.std([rf.feature_importances_ for rf in rf.estimators_],\n",
    "             axis=0)\n",
    "indices = np.argsort(importances)[::-1]\n",
    "\n",
    "# Print the feature ranking\n",
    "print(\"Feature ranking:\")\n",
    "\n",
    "for f in range(train6.shape[1]):\n",
    "    print(\"%d. feature %d (%f)\" %\n",
    "          (f + 1, indices[f] + 1, importances[indices[f]]))"
   ]
  },
  {
   "cell_type": "code",
   "execution_count": 16,
   "metadata": {},
   "outputs": [
    {
     "name": "stdout",
     "output_type": "stream",
     "text": [
      "Feature ranking:\n",
      "1. feature 1 (0.287446)\n",
      "2. feature 6 (0.199977)\n",
      "3. feature 2 (0.197861)\n",
      "4. feature 4 (0.106595)\n",
      "5. feature 3 (0.102769)\n",
      "6. feature 7 (0.099745)\n",
      "7. feature 5 (0.005607)\n"
     ]
    }
   ],
   "source": [
    "train7 = train[['13', '14', '8', '9', '6', '7', '10']]\n",
    "\n",
    "# Random forest et features importance\n",
    "rf = RandomForestClassifier(max_depth=10, random_state=0)\n",
    "\n",
    "rf.fit(train7, y)\n",
    "scores = cross_val_score(rf, train7, y, cv=5)\n",
    "importances = rf.feature_importances_\n",
    "std = np.std([rf.feature_importances_ for rf in rf.estimators_],\n",
    "             axis=0)\n",
    "indices = np.argsort(importances)[::-1]\n",
    "\n",
    "# Print the feature ranking\n",
    "print(\"Feature ranking:\")\n",
    "\n",
    "for f in range(train7.shape[1]):\n",
    "    print(\"%d. feature %d (%f)\" %\n",
    "          (f + 1, indices[f] + 1, importances[indices[f]]))"
   ]
  },
  {
   "cell_type": "code",
   "execution_count": 17,
   "metadata": {},
   "outputs": [
    {
     "name": "stdout",
     "output_type": "stream",
     "text": [
      "Feature ranking:\n",
      "1. feature 1 (0.467034)\n",
      "2. feature 3 (0.192539)\n",
      "3. feature 4 (0.109767)\n",
      "4. feature 6 (0.101561)\n",
      "5. feature 2 (0.100222)\n",
      "6. feature 8 (0.015925)\n",
      "7. feature 7 (0.010561)\n",
      "8. feature 5 (0.002392)\n"
     ]
    }
   ],
   "source": [
    "train8 = train[['13', '14', '8', '9', '6', '7', '10', '11']]\n",
    "\n",
    "# Random forest et features importance\n",
    "rf = RandomForestClassifier(max_depth=10, random_state=0)\n",
    "\n",
    "rf.fit(train8, y)\n",
    "scores = cross_val_score(rf, train8, y, cv=5)\n",
    "importances = rf.feature_importances_\n",
    "std = np.std([rf.feature_importances_ for rf in rf.estimators_],\n",
    "             axis=0)\n",
    "indices = np.argsort(importances)[::-1]\n",
    "\n",
    "# Print the feature ranking\n",
    "print(\"Feature ranking:\")\n",
    "\n",
    "for f in range(train8.shape[1]):\n",
    "    print(\"%d. feature %d (%f)\" %\n",
    "          (f + 1, indices[f] + 1, importances[indices[f]]))"
   ]
  },
  {
   "cell_type": "code",
   "execution_count": 18,
   "metadata": {},
   "outputs": [
    {
     "name": "stdout",
     "output_type": "stream",
     "text": [
      "Feature ranking:\n",
      "1. feature 2 (0.287061)\n",
      "2. feature 7 (0.190195)\n",
      "3. feature 6 (0.103518)\n",
      "4. feature 3 (0.103323)\n",
      "5. feature 1 (0.103002)\n",
      "6. feature 4 (0.100938)\n",
      "7. feature 5 (0.091828)\n",
      "8. feature 8 (0.011508)\n",
      "9. feature 9 (0.008627)\n"
     ]
    }
   ],
   "source": [
    "train9 = train[['13', '14', '8', '9', '6', '7', '10', '11', '12']]\n",
    "\n",
    "# Random forest et features importance\n",
    "rf = RandomForestClassifier(max_depth=10, random_state=0)\n",
    "\n",
    "rf.fit(train9, y)\n",
    "scores = cross_val_score(rf, train9, y, cv=5)\n",
    "importances = rf.feature_importances_\n",
    "std = np.std([rf.feature_importances_ for rf in rf.estimators_],\n",
    "             axis=0)\n",
    "indices = np.argsort(importances)[::-1]\n",
    "\n",
    "# Print the feature ranking\n",
    "print(\"Feature ranking:\")\n",
    "\n",
    "for f in range(train9.shape[1]):\n",
    "    print(\"%d. feature %d (%f)\" %\n",
    "          (f + 1, indices[f] + 1, importances[indices[f]]))"
   ]
  },
  {
   "cell_type": "markdown",
   "metadata": {},
   "source": [
    "* The trees helped me findind the most important columns. I used it for my matrix as we can see below in a quadratic way. \n",
    "\n",
    "    Coefficient of the features in the decision function."
   ]
  },
  {
   "cell_type": "code",
   "execution_count": 53,
   "metadata": {},
   "outputs": [
    {
     "name": "stdout",
     "output_type": "stream",
     "text": [
      "2610661.61706\n",
      "539.0\n",
      "The total running time of the fusion is acceptable!\n"
     ]
    },
    {
     "name": "stderr",
     "output_type": "stream",
     "text": [
      "/home/robin/anaconda3/lib/python3.6/site-packages/ipykernel_launcher.py:31: RuntimeWarning: invalid value encountered in multiply\n"
     ]
    },
    {
     "name": "stdout",
     "output_type": "stream",
     "text": [
      "Score at FAR=0.01%\n",
      "threshold : 4506170.50082 far : 9.9610468009e-05 frr : 0.0815922930822\n"
     ]
    }
   ],
   "source": [
    "M = np.zeros((15, 15))\n",
    "\n",
    "\n",
    "M[0, 8] = log_coefs.iloc[0]['Coefficients']\n",
    "M[0, 9] = log_coefs.iloc[0]['Coefficients']\n",
    "M[0, 10] = log_coefs.iloc[0]['Coefficients']\n",
    "M[0, 11] = log_coefs.iloc[0]['Coefficients']\n",
    "M[0, 14] = log_coefs.iloc[0]['Coefficients']\n",
    "M[8, 8] = log_coefs.iloc[0]['Coefficients']\n",
    "M[9, 9] = log_coefs.iloc[0]['Coefficients']\n",
    "M[10, 10] = log_coefs.iloc[0]['Coefficients']\n",
    "M[11, 11] = log_coefs.iloc[0]['Coefficients']\n",
    "M[14, 14] = log_coefs.iloc[0]['Coefficients']\n",
    "\n",
    "\n",
    "cur_s = s_trn[0]\n",
    "cur_s_hat = np.dot(cur_s.T, np.dot(M, cur_s))\n",
    "print(cur_s_hat)\n",
    "\n",
    "# Check if the time constraint is satisfied:\n",
    "\n",
    "tot_dur = compute_total_time(M)\n",
    "print(tot_dur)\n",
    "\n",
    "if(tot_dur <= alg_time_thr):\n",
    "    print(\"The total running time of the fusion is acceptable!\")\n",
    "\n",
    "    # Evaluation\n",
    "\n",
    "    # apply fusion on scores\n",
    "    fuse = np.multiply(s_trn[:, None, :] * s_trn[:, None, :], M)\n",
    "    fuse = np.concatenate([np.reshape(\n",
    "        y_trn, [-1, 1]), np.reshape(np.sum(fuse, axis=(1, 2)), [-1, 1])], axis=1)\n",
    "    fuse[np.isnan(fuse)] = -float(\"inf\")\n",
    "\n",
    "    # compute the FRR at FAR = 0.01%\n",
    "    look_at_FAR = 0.0001\n",
    "    thr, fa, fr = compute_eval(fuse)\n",
    "    print(\"Score at FAR=\" + str(look_at_FAR * 100.0) + \"%\")\n",
    "    print(\"threshold :\", thr, \"far :\", fa, \"frr :\", fr)\n",
    "\n",
    "else:\n",
    "    print(\"The total running time of the fusion is NOT acceptable!\")"
   ]
  },
  {
   "cell_type": "code",
   "execution_count": null,
   "metadata": {
    "collapsed": true
   },
   "outputs": [],
   "source": [
    "# Better frr : 0.0815922930822"
   ]
  },
  {
   "cell_type": "code",
   "execution_count": null,
   "metadata": {
    "collapsed": true
   },
   "outputs": [],
   "source": [
    "#Submission\n",
    "\n",
    "#Write the matrix M to the disk:\n",
    "np.savetxt('M_pred.txt', M, fmt='%f')"
   ]
  }
 ],
 "metadata": {
  "anaconda-cloud": {},
  "kernelspec": {
   "display_name": "Python 3",
   "language": "python",
   "name": "python3"
  },
  "language_info": {
   "codemirror_mode": {
    "name": "ipython",
    "version": 3
   },
   "file_extension": ".py",
   "mimetype": "text/x-python",
   "name": "python",
   "nbconvert_exporter": "python",
   "pygments_lexer": "ipython3",
   "version": "3.6.3"
  }
 },
 "nbformat": 4,
 "nbformat_minor": 1
}
